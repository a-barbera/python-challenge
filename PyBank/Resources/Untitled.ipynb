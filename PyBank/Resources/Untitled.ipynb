{
 "cells": [
  {
   "cell_type": "code",
   "execution_count": 1,
   "id": "349db525",
   "metadata": {},
   "outputs": [],
   "source": [
    "import os\n",
    "import csv"
   ]
  },
  {
   "cell_type": "code",
   "execution_count": 2,
   "id": "17b7b488",
   "metadata": {},
   "outputs": [],
   "source": [
    "pybank_csv = os.path.join(\"budget_data.csv\")"
   ]
  },
  {
   "cell_type": "code",
   "execution_count": 5,
   "id": "8a965898",
   "metadata": {},
   "outputs": [],
   "source": [
    "total_months = 0\n",
    "net_total = 0\n",
    "last_month = 0\n",
    "pl_list = []\n",
    "date = []\n"
   ]
  },
  {
   "cell_type": "code",
   "execution_count": 12,
   "id": "f3980506",
   "metadata": {},
   "outputs": [
    {
     "name": "stdout",
     "output_type": "stream",
     "text": [
      "10-Feb-354534\n",
      "10-Apr-728133\n",
      "10-Jul-535208\n",
      "10-Sep-173744\n",
      "10-Nov-785750\n",
      "10-Dec-1194133\n",
      "11-Jan-589576\n",
      "11-Feb-883921\n",
      "11-Jul-1066544\n",
      "11-Sep-806551\n",
      "12-Feb-197825\n",
      "12-Jun-471439\n",
      "12-Nov-235220\n",
      "13-Jul-252949\n",
      "14-Feb-946748\n",
      "14-Aug-549615\n",
      "15-Apr-388932\n",
      "15-Aug-496214\n",
      "15-Nov-288531\n",
      "15-Dec-184383\n",
      "16-Feb-1149123\n",
      "16-Jun-748256\n",
      "16-Jul-910775\n",
      "16-Oct-729004\n",
      "16-Nov-112209\n"
     ]
    }
   ],
   "source": [
    "with open(pybank_csv, encoding=\"utf8\") as csvfile:\n",
    "    csv_reader = csv.reader(csvfile, delimiter=\",\")\n",
    "    #read the header row first\n",
    "    csv_header = next(csv_reader)\n",
    "    for row in csv_reader:\n",
    "        if int(row[1]) < 50000:\n",
    "            print(row[0] + row[1])"
   ]
  },
  {
   "cell_type": "code",
   "execution_count": null,
   "id": "05e345a8",
   "metadata": {},
   "outputs": [],
   "source": []
  }
 ],
 "metadata": {
  "kernelspec": {
   "display_name": "PythonData",
   "language": "python",
   "name": "pythondata"
  },
  "language_info": {
   "codemirror_mode": {
    "name": "ipython",
    "version": 3
   },
   "file_extension": ".py",
   "mimetype": "text/x-python",
   "name": "python",
   "nbconvert_exporter": "python",
   "pygments_lexer": "ipython3",
   "version": "3.7.7"
  }
 },
 "nbformat": 4,
 "nbformat_minor": 5
}
